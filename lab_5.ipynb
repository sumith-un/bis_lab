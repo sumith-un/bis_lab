{
  "nbformat": 4,
  "nbformat_minor": 0,
  "metadata": {
    "colab": {
      "provenance": []
    },
    "kernelspec": {
      "name": "python3",
      "display_name": "Python 3"
    },
    "language_info": {
      "name": "python"
    }
  },
  "cells": [
    {
      "cell_type": "code",
      "execution_count": 3,
      "metadata": {
        "colab": {
          "base_uri": "https://localhost:8080/"
        },
        "id": "KIsj1IX6DgWE",
        "outputId": "b983170f-5b4f-41fe-f02f-57576254e1df"
      },
      "outputs": [
        {
          "output_type": "stream",
          "name": "stdout",
          "text": [
            "Enter the number of wolves: 30\n",
            "Enter the dimension of the problem (number of variables): 5\n",
            "Enter the maximum number of iterations: 100\n",
            "Enter the lower bound of the search space: -10\n",
            "Enter the upper bound of the search space: 10\n",
            "\n",
            "Optimization Result:\n",
            "Best Position:  [-6.86318245  1.82003259 -8.55906479  1.93925509 -0.73701464]\n",
            "Best Fitness:  51.07854677783715\n"
          ]
        }
      ],
      "source": [
        "import numpy as np\n",
        "\n",
        "# Define the fitness function (example: Sphere function)\n",
        "def fitness_function(x):\n",
        "    return np.sum(x**2)\n",
        "\n",
        "# GWO Algorithm Implementation\n",
        "class GWO:\n",
        "    def __init__(self, n_wolves, n_dim, max_iter, lb, ub, fitness_func):\n",
        "        self.n_wolves = n_wolves            # Number of wolves\n",
        "        self.n_dim = n_dim                  # Dimensions of the problem\n",
        "        self.max_iter = max_iter            # Maximum number of iterations\n",
        "        self.lb = lb                        # Lower bound of the search space\n",
        "        self.ub = ub                        # Upper bound of the search space\n",
        "        self.fitness_func = fitness_func    # Fitness function\n",
        "\n",
        "        # Initialize positions of wolves randomly\n",
        "        self.positions = np.random.uniform(self.lb, self.ub, (self.n_wolves, self.n_dim))\n",
        "        self.best_position = np.zeros(self.n_dim)\n",
        "        self.best_fitness = float('inf')\n",
        "\n",
        "    def update_position(self, alpha_pos, beta_pos, delta_pos, wolf_pos, A, C):\n",
        "        # Calculate new position of the wolf based on Alpha, Beta, and Delta positions\n",
        "        D_alpha = np.abs(C[0] * alpha_pos - wolf_pos)\n",
        "        D_beta = np.abs(C[1] * beta_pos - wolf_pos)\n",
        "        D_delta = np.abs(C[2] * delta_pos - wolf_pos)\n",
        "\n",
        "        new_position = (alpha_pos - A[0] * D_alpha) + (beta_pos - A[1] * D_beta) + (delta_pos - A[2] * D_delta)\n",
        "        return new_position\n",
        "\n",
        "    def optimize(self):\n",
        "        # Main optimization loop\n",
        "        for t in range(self.max_iter):\n",
        "            # Evaluate fitness of all wolves\n",
        "            fitness_values = np.array([self.fitness_func(self.positions[i]) for i in range(self.n_wolves)])\n",
        "\n",
        "            # Sort wolves based on their fitness values (ascending)\n",
        "            sorted_indices = np.argsort(fitness_values)\n",
        "            fitness_values = fitness_values[sorted_indices]\n",
        "            self.positions = self.positions[sorted_indices]\n",
        "\n",
        "            # Update Alpha, Beta, and Delta wolves\n",
        "            alpha_pos = self.positions[0]  # Best wolf\n",
        "            beta_pos = self.positions[1]   # Second-best wolf\n",
        "            delta_pos = self.positions[2]  # Third-best wolf\n",
        "\n",
        "            # If the current Alpha is better than the global best, update the best position\n",
        "            if fitness_values[0] < self.best_fitness:\n",
        "                self.best_fitness = fitness_values[0]\n",
        "                self.best_position = alpha_pos\n",
        "\n",
        "            # Update position of all wolves\n",
        "            A = 2 * np.random.rand(3) - 1  # A coefficient for exploration (range [-2, 2])\n",
        "            C = 2 * np.random.rand(3)      # C coefficient for exploration (range [0, 2])\n",
        "\n",
        "            for i in range(self.n_wolves):\n",
        "                # Update position for each wolf\n",
        "                self.positions[i] = self.update_position(alpha_pos, beta_pos, delta_pos, self.positions[i], A, C)\n",
        "\n",
        "                # Apply bounds (if necessary) to ensure positions are within the allowed range\n",
        "                self.positions[i] = np.clip(self.positions[i], self.lb, self.ub)\n",
        "\n",
        "        # Return the best position and its fitness value\n",
        "        return self.best_position, self.best_fitness\n",
        "\n",
        "\n",
        "# Get user input for GWO parameters\n",
        "n_wolves = int(input(\"Enter the number of wolves: \"))\n",
        "n_dim = int(input(\"Enter the dimension of the problem (number of variables): \"))\n",
        "max_iter = int(input(\"Enter the maximum number of iterations: \"))\n",
        "lb = float(input(\"Enter the lower bound of the search space: \"))\n",
        "ub = float(input(\"Enter the upper bound of the search space: \"))\n",
        "\n",
        "# Instantiate the GWO optimizer\n",
        "gwo = GWO(n_wolves, n_dim, max_iter, lb, ub, fitness_function)\n",
        "\n",
        "# Perform optimization\n",
        "best_position, best_fitness = gwo.optimize()\n",
        "\n",
        "# Output results\n",
        "print(\"\\nOptimization Result:\")\n",
        "print(\"Best Position: \", best_position)\n",
        "print(\"Best Fitness: \", best_fitness)\n"
      ]
    }
  ]
}